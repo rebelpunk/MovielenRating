{
  "nbformat": 4,
  "nbformat_minor": 0,
  "metadata": {
    "colab": {
      "provenance": []
    },
    "kernelspec": {
      "name": "python3",
      "display_name": "Python 3"
    },
    "language_info": {
      "name": "python"
    }
  },
  "cells": [
    {
      "cell_type": "markdown",
      "source": [
        "- numBlocks : parallelization of a computer \n",
        "(-1 imply auto-config)\n",
        "- rank : number of latent factors in the model\n",
        "- iterations ( number of iterations that have to run\n",
        "- lambda: specify regularization\n",
        "- implicitPref specify feedback for the ALS\n",
        "- alpha"
      ],
      "metadata": {
        "id": "nTfaZpnDrngH"
      }
    },
    {
      "cell_type": "code",
      "source": [
        "!pip install pyspark py4j"
      ],
      "metadata": {
        "colab": {
          "base_uri": "https://localhost:8080/"
        },
        "id": "1_sQJuf2tfUV",
        "outputId": "2972ab95-2a00-4666-a6e4-d49855068973"
      },
      "execution_count": 5,
      "outputs": [
        {
          "output_type": "stream",
          "name": "stdout",
          "text": [
            "Looking in indexes: https://pypi.org/simple, https://us-python.pkg.dev/colab-wheels/public/simple/\n",
            "Collecting pyspark\n",
            "  Downloading pyspark-3.4.0.tar.gz (310.8 MB)\n",
            "\u001b[2K     \u001b[90m━━━━━━━━━━━━━━━━━━━━━━━━━━━━━━━━━━━━━━━\u001b[0m \u001b[32m310.8/310.8 MB\u001b[0m \u001b[31m4.1 MB/s\u001b[0m eta \u001b[36m0:00:00\u001b[0m\n",
            "\u001b[?25h  Preparing metadata (setup.py) ... \u001b[?25l\u001b[?25hdone\n",
            "Requirement already satisfied: py4j in /usr/local/lib/python3.10/dist-packages (0.10.9.7)\n",
            "Building wheels for collected packages: pyspark\n",
            "  Building wheel for pyspark (setup.py) ... \u001b[?25l\u001b[?25hdone\n",
            "  Created wheel for pyspark: filename=pyspark-3.4.0-py2.py3-none-any.whl size=311317130 sha256=94dc84fd82fb1f046cd56389b92e079510ddb387caf27377fa405e7280b589ca\n",
            "  Stored in directory: /root/.cache/pip/wheels/7b/1b/4b/3363a1d04368e7ff0d408e57ff57966fcdf00583774e761327\n",
            "Successfully built pyspark\n",
            "Installing collected packages: pyspark\n",
            "Successfully installed pyspark-3.4.0\n"
          ]
        }
      ]
    },
    {
      "cell_type": "code",
      "source": [
        "from pyspark.sql import SparkSession\n",
        "from pyspark.ml.evaluation import RegressionEvaluator\n",
        "from pyspark.ml.recommendation import ALS"
      ],
      "metadata": {
        "id": "OkL-zHYTsK4a"
      },
      "execution_count": 7,
      "outputs": []
    },
    {
      "cell_type": "code",
      "source": [
        "spark = SparkSession.builder.appName(\"movielens\").getOrCreate()"
      ],
      "metadata": {
        "id": "_qAdQxwiuWE4"
      },
      "execution_count": 8,
      "outputs": []
    },
    {
      "cell_type": "code",
      "source": [
        "df = spark.read.csv(\"/content/sample_data/movielens_rating.csv\", inferSchema=True, header=True)"
      ],
      "metadata": {
        "id": "UjW6OFi1uuKH"
      },
      "execution_count": 9,
      "outputs": []
    },
    {
      "cell_type": "code",
      "source": [
        "df.show()\n"
      ],
      "metadata": {
        "colab": {
          "base_uri": "https://localhost:8080/"
        },
        "id": "nFJ8TlyHzq35",
        "outputId": "bbf7ce79-849e-4f37-f5c5-e098436ea386"
      },
      "execution_count": 10,
      "outputs": [
        {
          "output_type": "stream",
          "name": "stdout",
          "text": [
            "+------+-------+------+\n",
            "|userId|movieId|rating|\n",
            "+------+-------+------+\n",
            "|     1|      1|   4.0|\n",
            "|     1|      3|   4.0|\n",
            "|     1|      6|   4.0|\n",
            "|     1|     47|   5.0|\n",
            "|     1|     50|   5.0|\n",
            "|     1|     70|   3.0|\n",
            "|     1|    101|   5.0|\n",
            "|     1|    110|   4.0|\n",
            "|     1|    151|   5.0|\n",
            "|     1|    157|   5.0|\n",
            "|     1|    163|   5.0|\n",
            "|     1|    216|   5.0|\n",
            "|     1|    223|   3.0|\n",
            "|     1|    231|   5.0|\n",
            "|     1|    235|   4.0|\n",
            "|     1|    260|   5.0|\n",
            "|     1|    296|   3.0|\n",
            "|     1|    316|   3.0|\n",
            "|     1|    333|   5.0|\n",
            "|     1|    349|   4.0|\n",
            "+------+-------+------+\n",
            "only showing top 20 rows\n",
            "\n"
          ]
        }
      ]
    },
    {
      "cell_type": "code",
      "source": [
        "df.describe().show()"
      ],
      "metadata": {
        "colab": {
          "base_uri": "https://localhost:8080/"
        },
        "id": "xl2JnmMezx3h",
        "outputId": "8be085a5-081b-465f-84d2-25cb4ea54694"
      },
      "execution_count": 11,
      "outputs": [
        {
          "output_type": "stream",
          "name": "stdout",
          "text": [
            "+-------+------------------+----------------+------------------+\n",
            "|summary|            userId|         movieId|            rating|\n",
            "+-------+------------------+----------------+------------------+\n",
            "|  count|            100836|          100836|            100836|\n",
            "|   mean|326.12756356856676|19435.2957177992| 3.501556983616962|\n",
            "| stddev| 182.6184914635004|35530.9871987003|1.0425292390606342|\n",
            "|    min|                 1|               1|               0.5|\n",
            "|    max|               610|          193609|               5.0|\n",
            "+-------+------------------+----------------+------------------+\n",
            "\n"
          ]
        }
      ]
    },
    {
      "cell_type": "code",
      "source": [
        "(train, test) = df.randomSplit([0.7, 0.3], seed=42)"
      ],
      "metadata": {
        "id": "hzLsAmkU0GMF"
      },
      "execution_count": 12,
      "outputs": []
    },
    {
      "cell_type": "code",
      "source": [
        "als = ALS(maxIter=5, regParam=0.01, userCol=\"userId\", itemCol=\"movieId\", ratingCol=\"rating\")"
      ],
      "metadata": {
        "id": "qjwNNPJK0Tp3"
      },
      "execution_count": 13,
      "outputs": []
    },
    {
      "cell_type": "code",
      "source": [
        "model = als.fit(train)"
      ],
      "metadata": {
        "id": "6WfOsfjq0rnZ"
      },
      "execution_count": 14,
      "outputs": []
    },
    {
      "cell_type": "code",
      "source": [
        "predict = model.transform(test)"
      ],
      "metadata": {
        "id": "uOTsRh7i0x7L"
      },
      "execution_count": 15,
      "outputs": []
    },
    {
      "cell_type": "code",
      "source": [
        "predict.show()"
      ],
      "metadata": {
        "colab": {
          "base_uri": "https://localhost:8080/"
        },
        "id": "maQEA0Zr1EwW",
        "outputId": "f48f549d-086e-4833-9364-218e01a0e8c4"
      },
      "execution_count": 16,
      "outputs": [
        {
          "output_type": "stream",
          "name": "stdout",
          "text": [
            "+------+-------+------+----------+\n",
            "|userId|movieId|rating|prediction|\n",
            "+------+-------+------+----------+\n",
            "|     1|    804|   4.0| 3.7133982|\n",
            "|     1|    362|   5.0|   4.86761|\n",
            "|     1|    673|   3.0| 3.6269677|\n",
            "|     1|    593|   4.0| 4.6645975|\n",
            "|     1|    101|   5.0| 3.5708053|\n",
            "|     1|    596|   5.0| 4.4156804|\n",
            "|     1|    157|   5.0|  3.925525|\n",
            "|     1|      6|   4.0| 4.3128166|\n",
            "|     1|    923|   5.0| 4.8532896|\n",
            "|     1|    235|   4.0| 4.0579624|\n",
            "|     1|    780|   3.0|  4.271947|\n",
            "|     1|    590|   4.0| 4.1777043|\n",
            "|     1|    231|   5.0| 3.3686543|\n",
            "|     1|    552|   4.0| 3.9265242|\n",
            "|     1|    423|   3.0|  2.946643|\n",
            "|     1|    441|   4.0| 4.4370317|\n",
            "|     1|    543|   4.0|   4.61752|\n",
            "|     1|    527|   5.0| 3.9532664|\n",
            "|     1|    151|   5.0| 4.0183005|\n",
            "|     1|    260|   5.0|  4.707357|\n",
            "+------+-------+------+----------+\n",
            "only showing top 20 rows\n",
            "\n"
          ]
        }
      ]
    },
    {
      "cell_type": "code",
      "source": [
        "eval = RegressionEvaluator(metricName = \"rmse\", labelCol=\"rating\",predictionCol=\"prediction\")"
      ],
      "metadata": {
        "id": "gUzJuEgn1Qr_"
      },
      "execution_count": 18,
      "outputs": []
    },
    {
      "cell_type": "code",
      "source": [
        "rmse= eval.evaluate(predict)\n",
        "print(f\"RMSE: {rmse}\")"
      ],
      "metadata": {
        "colab": {
          "base_uri": "https://localhost:8080/"
        },
        "id": "Pd4hR6B_1i0x",
        "outputId": "4260f5f9-5244-4705-8c9e-6b59491d6108"
      },
      "execution_count": 20,
      "outputs": [
        {
          "output_type": "stream",
          "name": "stdout",
          "text": [
            "RMSE: nan\n"
          ]
        }
      ]
    },
    {
      "cell_type": "code",
      "source": [
        "user_1 = test.filter(test['userId'] == 1).select(['movieId', \"userId\"])"
      ],
      "metadata": {
        "id": "P_VGHu842dff"
      },
      "execution_count": 21,
      "outputs": []
    },
    {
      "cell_type": "code",
      "source": [
        "user_1.show()"
      ],
      "metadata": {
        "colab": {
          "base_uri": "https://localhost:8080/"
        },
        "id": "yfQeJqjK2pbH",
        "outputId": "4c25fb68-28f0-49c2-f32e-50993a2af0c1"
      },
      "execution_count": 22,
      "outputs": [
        {
          "output_type": "stream",
          "name": "stdout",
          "text": [
            "+-------+------+\n",
            "|movieId|userId|\n",
            "+-------+------+\n",
            "|      6|     1|\n",
            "|    101|     1|\n",
            "|    151|     1|\n",
            "|    157|     1|\n",
            "|    231|     1|\n",
            "|    235|     1|\n",
            "|    260|     1|\n",
            "|    349|     1|\n",
            "|    362|     1|\n",
            "|    423|     1|\n",
            "|    441|     1|\n",
            "|    527|     1|\n",
            "|    543|     1|\n",
            "|    552|     1|\n",
            "|    590|     1|\n",
            "|    593|     1|\n",
            "|    596|     1|\n",
            "|    673|     1|\n",
            "|    780|     1|\n",
            "|    804|     1|\n",
            "+-------+------+\n",
            "only showing top 20 rows\n",
            "\n"
          ]
        }
      ]
    },
    {
      "cell_type": "code",
      "source": [
        "recommend = model.transform(user_1)"
      ],
      "metadata": {
        "id": "dtUTA1Jh2uUI"
      },
      "execution_count": 23,
      "outputs": []
    },
    {
      "cell_type": "code",
      "source": [
        "recommend.orderBy(\"prediction\", ascending=False).show()"
      ],
      "metadata": {
        "colab": {
          "base_uri": "https://localhost:8080/"
        },
        "id": "d4AQ9cvQ23d4",
        "outputId": "9b584474-e197-4a39-c1ac-648e6c21e0ca"
      },
      "execution_count": 24,
      "outputs": [
        {
          "output_type": "stream",
          "name": "stdout",
          "text": [
            "+-------+------+----------+\n",
            "|movieId|userId|prediction|\n",
            "+-------+------+----------+\n",
            "|    940|     1|  5.626531|\n",
            "|   1031|     1|  5.452162|\n",
            "|   2478|     1|  5.323901|\n",
            "|   2959|     1|  5.057724|\n",
            "|   1396|     1| 5.0410304|\n",
            "|   1258|     1| 4.9596305|\n",
            "|   2005|     1| 4.8964596|\n",
            "|    362|     1|   4.86761|\n",
            "|    923|     1| 4.8532896|\n",
            "|   2529|     1|  4.851065|\n",
            "|   2000|     1|  4.743887|\n",
            "|    260|     1|  4.707357|\n",
            "|   1198|     1| 4.6853414|\n",
            "|    593|     1| 4.6645975|\n",
            "|   1197|     1| 4.6285534|\n",
            "|    543|     1|   4.61752|\n",
            "|   1220|     1| 4.5622234|\n",
            "|   1214|     1| 4.4850707|\n",
            "|    441|     1| 4.4370317|\n",
            "|   1805|     1|  4.432716|\n",
            "+-------+------+----------+\n",
            "only showing top 20 rows\n",
            "\n"
          ]
        }
      ]
    }
  ]
}